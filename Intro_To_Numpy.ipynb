{
  "nbformat": 4,
  "nbformat_minor": 0,
  "metadata": {
    "colab": {
      "name": "Intro-To-Numpy.ipynb",
      "provenance": [],
      "authorship_tag": "ABX9TyNLX8zOU+z3GGGsdjCOhP7Q",
      "include_colab_link": true
    },
    "kernelspec": {
      "name": "python3",
      "display_name": "Python 3"
    },
    "language_info": {
      "name": "python"
    }
  },
  "cells": [
    {
      "cell_type": "markdown",
      "metadata": {
        "id": "view-in-github",
        "colab_type": "text"
      },
      "source": [
        "<a href=\"https://colab.research.google.com/github/Rob7799/Introduction_NumPy/blob/main/Intro_To_Numpy.ipynb\" target=\"_parent\"><img src=\"https://colab.research.google.com/assets/colab-badge.svg\" alt=\"Open In Colab\"/></a>"
      ]
    },
    {
      "cell_type": "code",
      "metadata": {
        "id": "na_-1UPmcFOy"
      },
      "source": [
        "import numpy as np #Importing Numpy"
      ],
      "execution_count": 13,
      "outputs": []
    },
    {
      "cell_type": "code",
      "metadata": {
        "id": "tvcM77_fcWUT"
      },
      "source": [
        "# Data Types and Attributes in Numpy\n",
        "# ndarray - n dimensional array\n",
        "# 1 Dimensional-array(vector), 2 Dimensional-array(Matrix), 3-Dimensional(Matrix)-Table, row, column"
      ],
      "execution_count": 14,
      "outputs": []
    },
    {
      "cell_type": "code",
      "metadata": {
        "id": "aUB7sCFRdB2_"
      },
      "source": [
        "a1=np.array([1,2,3]) # 1 dimensional array - 1 row and 3 column\n",
        "\n",
        "a2=np.array([[1,2.0,3.3],  #2 dimensional array - row and 3 column\n",
        "             [5,3.4,33]])\n",
        "a3=np.array([[[1,2,3],\n",
        "[4,5,6],\n",
        "[7,8,9]],\n",
        "[[10,11,12],\n",
        "[13,14,15],\n",
        "[16,17,18]]])\n",
        "\n"
      ],
      "execution_count": 15,
      "outputs": []
    },
    {
      "cell_type": "code",
      "metadata": {
        "colab": {
          "base_uri": "https://localhost:8080/"
        },
        "id": "CejUV6ykejYR",
        "outputId": "07bbc5aa-cb6c-49cf-eef7-220802009b8f"
      },
      "source": [
        "print(a1.shape) #row\n",
        "print(a1.ndim)\n",
        "print(a1.dtype)"
      ],
      "execution_count": 16,
      "outputs": [
        {
          "output_type": "stream",
          "text": [
            "(3,)\n",
            "1\n",
            "int64\n"
          ],
          "name": "stdout"
        }
      ]
    },
    {
      "cell_type": "code",
      "metadata": {
        "colab": {
          "base_uri": "https://localhost:8080/"
        },
        "id": "n3UTRGaKfUuZ",
        "outputId": "d8010f2c-02c9-4972-838a-a4ab65aa418f"
      },
      "source": [
        "print(a2.shape)  #row, column\n",
        "print(a2.ndim)\n",
        "print(a2.dtype)\n",
        "print(a2.size)\n",
        "print(type(a2))"
      ],
      "execution_count": 17,
      "outputs": [
        {
          "output_type": "stream",
          "text": [
            "(2, 3)\n",
            "2\n",
            "float64\n",
            "6\n",
            "<class 'numpy.ndarray'>\n"
          ],
          "name": "stdout"
        }
      ]
    },
    {
      "cell_type": "code",
      "metadata": {
        "colab": {
          "base_uri": "https://localhost:8080/"
        },
        "id": "lbfrq7ICfXhN",
        "outputId": "c95f8240-7ebd-48c4-f704-8ed50af40428"
      },
      "source": [
        "print(a3.shape) #table, row, column\n",
        "print(a3.ndim) #3 dimensional\n",
        "print(a3.dtype) #data type\n",
        "print(a3.size) # 18\n",
        "print(type(a3)) #Numpy class/type"
      ],
      "execution_count": 18,
      "outputs": [
        {
          "output_type": "stream",
          "text": [
            "(2, 3, 3)\n",
            "3\n",
            "int64\n",
            "18\n",
            "<class 'numpy.ndarray'>\n"
          ],
          "name": "stdout"
        }
      ]
    },
    {
      "cell_type": "code",
      "metadata": {
        "colab": {
          "base_uri": "https://localhost:8080/"
        },
        "id": "ew0lHFuxgame",
        "outputId": "e2debdf2-2b3f-41c0-ba15-9f30862d9668"
      },
      "source": [
        "a2\n"
      ],
      "execution_count": 19,
      "outputs": [
        {
          "output_type": "execute_result",
          "data": {
            "text/plain": [
              "array([[ 1. ,  2. ,  3.3],\n",
              "       [ 5. ,  3.4, 33. ]])"
            ]
          },
          "metadata": {},
          "execution_count": 19
        }
      ]
    },
    {
      "cell_type": "code",
      "metadata": {
        "colab": {
          "base_uri": "https://localhost:8080/",
          "height": 204
        },
        "id": "ZlzaLVbGhDuQ",
        "outputId": "f9bdb744-50db-4a4e-b108-7d7917741498"
      },
      "source": [
        "#Pandas Dataframe out of Numpy arrays\n",
        "import pandas as pd\n",
        "df=pd.DataFrame(np.random.randint(20,size=(5,3)),columns=[\"Horse\",\"bicycle\",\"Bike\"])\n",
        "df"
      ],
      "execution_count": 20,
      "outputs": [
        {
          "output_type": "execute_result",
          "data": {
            "text/html": [
              "<div>\n",
              "<style scoped>\n",
              "    .dataframe tbody tr th:only-of-type {\n",
              "        vertical-align: middle;\n",
              "    }\n",
              "\n",
              "    .dataframe tbody tr th {\n",
              "        vertical-align: top;\n",
              "    }\n",
              "\n",
              "    .dataframe thead th {\n",
              "        text-align: right;\n",
              "    }\n",
              "</style>\n",
              "<table border=\"1\" class=\"dataframe\">\n",
              "  <thead>\n",
              "    <tr style=\"text-align: right;\">\n",
              "      <th></th>\n",
              "      <th>Horse</th>\n",
              "      <th>bicycle</th>\n",
              "      <th>Bike</th>\n",
              "    </tr>\n",
              "  </thead>\n",
              "  <tbody>\n",
              "    <tr>\n",
              "      <th>0</th>\n",
              "      <td>2</td>\n",
              "      <td>11</td>\n",
              "      <td>19</td>\n",
              "    </tr>\n",
              "    <tr>\n",
              "      <th>1</th>\n",
              "      <td>19</td>\n",
              "      <td>16</td>\n",
              "      <td>17</td>\n",
              "    </tr>\n",
              "    <tr>\n",
              "      <th>2</th>\n",
              "      <td>4</td>\n",
              "      <td>19</td>\n",
              "      <td>18</td>\n",
              "    </tr>\n",
              "    <tr>\n",
              "      <th>3</th>\n",
              "      <td>3</td>\n",
              "      <td>12</td>\n",
              "      <td>18</td>\n",
              "    </tr>\n",
              "    <tr>\n",
              "      <th>4</th>\n",
              "      <td>14</td>\n",
              "      <td>13</td>\n",
              "      <td>3</td>\n",
              "    </tr>\n",
              "  </tbody>\n",
              "</table>\n",
              "</div>"
            ],
            "text/plain": [
              "   Horse  bicycle  Bike\n",
              "0      2       11    19\n",
              "1     19       16    17\n",
              "2      4       19    18\n",
              "3      3       12    18\n",
              "4     14       13     3"
            ]
          },
          "metadata": {},
          "execution_count": 20
        }
      ]
    },
    {
      "cell_type": "code",
      "metadata": {
        "colab": {
          "base_uri": "https://localhost:8080/"
        },
        "id": "Z2v0-NDZinpI",
        "outputId": "5f726f34-b269-4d37-eab1-42229a62276c"
      },
      "source": [
        "a2"
      ],
      "execution_count": 21,
      "outputs": [
        {
          "output_type": "execute_result",
          "data": {
            "text/plain": [
              "array([[ 1. ,  2. ,  3.3],\n",
              "       [ 5. ,  3.4, 33. ]])"
            ]
          },
          "metadata": {},
          "execution_count": 21
        }
      ]
    },
    {
      "cell_type": "code",
      "metadata": {
        "colab": {
          "base_uri": "https://localhost:8080/",
          "height": 111
        },
        "id": "WDWGbjpAisvY",
        "outputId": "043f3fa0-78dc-4d5d-9f6a-f24d778c55d5"
      },
      "source": [
        "df2=pd.DataFrame(a2,columns=[\"time\",\"Cost\",\"brand\"])\n",
        "df2"
      ],
      "execution_count": 22,
      "outputs": [
        {
          "output_type": "execute_result",
          "data": {
            "text/html": [
              "<div>\n",
              "<style scoped>\n",
              "    .dataframe tbody tr th:only-of-type {\n",
              "        vertical-align: middle;\n",
              "    }\n",
              "\n",
              "    .dataframe tbody tr th {\n",
              "        vertical-align: top;\n",
              "    }\n",
              "\n",
              "    .dataframe thead th {\n",
              "        text-align: right;\n",
              "    }\n",
              "</style>\n",
              "<table border=\"1\" class=\"dataframe\">\n",
              "  <thead>\n",
              "    <tr style=\"text-align: right;\">\n",
              "      <th></th>\n",
              "      <th>time</th>\n",
              "      <th>Cost</th>\n",
              "      <th>brand</th>\n",
              "    </tr>\n",
              "  </thead>\n",
              "  <tbody>\n",
              "    <tr>\n",
              "      <th>0</th>\n",
              "      <td>1.0</td>\n",
              "      <td>2.0</td>\n",
              "      <td>3.3</td>\n",
              "    </tr>\n",
              "    <tr>\n",
              "      <th>1</th>\n",
              "      <td>5.0</td>\n",
              "      <td>3.4</td>\n",
              "      <td>33.0</td>\n",
              "    </tr>\n",
              "  </tbody>\n",
              "</table>\n",
              "</div>"
            ],
            "text/plain": [
              "   time  Cost  brand\n",
              "0   1.0   2.0    3.3\n",
              "1   5.0   3.4   33.0"
            ]
          },
          "metadata": {},
          "execution_count": 22
        }
      ]
    },
    {
      "cell_type": "code",
      "metadata": {
        "id": "D1PC6S1xjVtz"
      },
      "source": [
        "# Creating Numpy Arrays \n",
        "# np.array() creating an array\n",
        "# np.ones() create any array with value of 1\n",
        "# np.zeroes()\n",
        "# np.random.rand(5,3)\n",
        "# np.random.randint()\n",
        "# np.random.seed() Creates an array with random numbers, but the next time you run it, the values will not change. A fixed array of random numbers \n",
        "\n",
        "\n"
      ],
      "execution_count": 23,
      "outputs": []
    },
    {
      "cell_type": "code",
      "metadata": {
        "colab": {
          "base_uri": "https://localhost:8080/"
        },
        "id": "MAlwPWlNkabe",
        "outputId": "f56224c4-8e71-48ad-af0f-64590aecbc9c"
      },
      "source": [
        "#Creating a simple array\n",
        "simple_array=np.array([1,2,3])\n",
        "print(simple_array)"
      ],
      "execution_count": 24,
      "outputs": [
        {
          "output_type": "stream",
          "text": [
            "[1 2 3]\n"
          ],
          "name": "stdout"
        }
      ]
    },
    {
      "cell_type": "code",
      "metadata": {
        "colab": {
          "base_uri": "https://localhost:8080/"
        },
        "id": "84hECOJykkap",
        "outputId": "5407bc58-784f-4849-a768-13baed8e8ef4"
      },
      "source": [
        "#Create an array of ones\n",
        "ones=np.ones((10,2))\n",
        "ones"
      ],
      "execution_count": 25,
      "outputs": [
        {
          "output_type": "execute_result",
          "data": {
            "text/plain": [
              "array([[1., 1.],\n",
              "       [1., 1.],\n",
              "       [1., 1.],\n",
              "       [1., 1.],\n",
              "       [1., 1.],\n",
              "       [1., 1.],\n",
              "       [1., 1.],\n",
              "       [1., 1.],\n",
              "       [1., 1.],\n",
              "       [1., 1.]])"
            ]
          },
          "metadata": {},
          "execution_count": 25
        }
      ]
    },
    {
      "cell_type": "code",
      "metadata": {
        "colab": {
          "base_uri": "https://localhost:8080/"
        },
        "id": "rQYovZQdlQ04",
        "outputId": "a1605bf2-9e50-4fa5-d473-4460d94953c9"
      },
      "source": [
        "ones.dtype"
      ],
      "execution_count": 26,
      "outputs": [
        {
          "output_type": "execute_result",
          "data": {
            "text/plain": [
              "dtype('float64')"
            ]
          },
          "metadata": {},
          "execution_count": 26
        }
      ]
    },
    {
      "cell_type": "code",
      "metadata": {
        "id": "WhNKGiK1lW5S"
      },
      "source": [
        "#change the data type with the help of .astype()\n"
      ],
      "execution_count": 27,
      "outputs": []
    },
    {
      "cell_type": "code",
      "metadata": {
        "colab": {
          "base_uri": "https://localhost:8080/"
        },
        "id": "yq5DlyZnlvA4",
        "outputId": "60eb2137-edb3-46d7-f338-43c329ceb0a9"
      },
      "source": [
        "ones.astype(int)"
      ],
      "execution_count": 28,
      "outputs": [
        {
          "output_type": "execute_result",
          "data": {
            "text/plain": [
              "array([[1, 1],\n",
              "       [1, 1],\n",
              "       [1, 1],\n",
              "       [1, 1],\n",
              "       [1, 1],\n",
              "       [1, 1],\n",
              "       [1, 1],\n",
              "       [1, 1],\n",
              "       [1, 1],\n",
              "       [1, 1]])"
            ]
          },
          "metadata": {},
          "execution_count": 28
        }
      ]
    },
    {
      "cell_type": "code",
      "metadata": {
        "colab": {
          "base_uri": "https://localhost:8080/"
        },
        "id": "35LrJrY2l2_d",
        "outputId": "3a03584c-68ed-4900-a2ed-7a3cefcb34a0"
      },
      "source": [
        "#Create an array of Zeros \n",
        "zeros=np.zeros((5,3,4))\n",
        "zeros"
      ],
      "execution_count": 29,
      "outputs": [
        {
          "output_type": "execute_result",
          "data": {
            "text/plain": [
              "array([[[0., 0., 0., 0.],\n",
              "        [0., 0., 0., 0.],\n",
              "        [0., 0., 0., 0.]],\n",
              "\n",
              "       [[0., 0., 0., 0.],\n",
              "        [0., 0., 0., 0.],\n",
              "        [0., 0., 0., 0.]],\n",
              "\n",
              "       [[0., 0., 0., 0.],\n",
              "        [0., 0., 0., 0.],\n",
              "        [0., 0., 0., 0.]],\n",
              "\n",
              "       [[0., 0., 0., 0.],\n",
              "        [0., 0., 0., 0.],\n",
              "        [0., 0., 0., 0.]],\n",
              "\n",
              "       [[0., 0., 0., 0.],\n",
              "        [0., 0., 0., 0.],\n",
              "        [0., 0., 0., 0.]]])"
            ]
          },
          "metadata": {},
          "execution_count": 29
        }
      ]
    },
    {
      "cell_type": "code",
      "metadata": {
        "colab": {
          "base_uri": "https://localhost:8080/"
        },
        "id": "onO9Qnh1misP",
        "outputId": "f0d7c5f2-403a-48bd-b1b2-ac91e6c8dfbf"
      },
      "source": [
        "#Create an array with a range of values\n",
        "range_array=np.arange(0,10,2)\n",
        "range_array"
      ],
      "execution_count": 30,
      "outputs": [
        {
          "output_type": "execute_result",
          "data": {
            "text/plain": [
              "array([0, 2, 4, 6, 8])"
            ]
          },
          "metadata": {},
          "execution_count": 30
        }
      ]
    },
    {
      "cell_type": "code",
      "metadata": {
        "colab": {
          "base_uri": "https://localhost:8080/"
        },
        "id": "rzXAO3Dsm0VI",
        "outputId": "2c213fd8-17a0-44df-e20c-15062e8dbff4"
      },
      "source": [
        "#random Array\n",
        "random_array=np.random.randint(10,size=(5,4))\n",
        "random_array"
      ],
      "execution_count": 31,
      "outputs": [
        {
          "output_type": "execute_result",
          "data": {
            "text/plain": [
              "array([[6, 9, 6, 9],\n",
              "       [1, 6, 1, 5],\n",
              "       [1, 6, 6, 0],\n",
              "       [2, 7, 2, 1],\n",
              "       [8, 8, 2, 0]])"
            ]
          },
          "metadata": {},
          "execution_count": 31
        }
      ]
    },
    {
      "cell_type": "code",
      "metadata": {
        "colab": {
          "base_uri": "https://localhost:8080/"
        },
        "id": "dL-Jpwgvnskl",
        "outputId": "9dd755b2-7aac-4e2f-f2e5-1ee2f3bfdc05"
      },
      "source": [
        "#Create a random array of floats\n",
        "np.random.random((5,5))"
      ],
      "execution_count": 32,
      "outputs": [
        {
          "output_type": "execute_result",
          "data": {
            "text/plain": [
              "array([[0.82852112, 0.45706188, 0.15624384, 0.79479457, 0.43238975],\n",
              "       [0.54628565, 0.02853087, 0.98226679, 0.51829251, 0.90011805],\n",
              "       [0.29807008, 0.06066156, 0.08729165, 0.62576761, 0.97445739],\n",
              "       [0.3511466 , 0.41482293, 0.54844372, 0.87383869, 0.40264473],\n",
              "       [0.9161828 , 0.19347794, 0.27520539, 0.18271994, 0.31352856]])"
            ]
          },
          "metadata": {},
          "execution_count": 32
        }
      ]
    },
    {
      "cell_type": "code",
      "metadata": {
        "colab": {
          "base_uri": "https://localhost:8080/"
        },
        "id": "MW--0ck4oaZk",
        "outputId": "cdf620d9-c6c4-4464-bf02-f934a8d1785f"
      },
      "source": [
        "#Random seed to 0\n",
        "np.random.seed(0)\n",
        "np.random.randint(10,size=(5,3))"
      ],
      "execution_count": 33,
      "outputs": [
        {
          "output_type": "execute_result",
          "data": {
            "text/plain": [
              "array([[5, 0, 3],\n",
              "       [3, 7, 9],\n",
              "       [3, 5, 2],\n",
              "       [4, 7, 6],\n",
              "       [8, 8, 1]])"
            ]
          },
          "metadata": {},
          "execution_count": 33
        }
      ]
    },
    {
      "cell_type": "code",
      "metadata": {
        "colab": {
          "base_uri": "https://localhost:8080/"
        },
        "id": "IQndPU7opB01",
        "outputId": "0bd357df-b03c-465c-d441-95ef91dd901e"
      },
      "source": [
        "np.random.randint(10,size=(5,3))"
      ],
      "execution_count": 34,
      "outputs": [
        {
          "output_type": "execute_result",
          "data": {
            "text/plain": [
              "array([[6, 7, 7],\n",
              "       [8, 1, 5],\n",
              "       [9, 8, 9],\n",
              "       [4, 3, 0],\n",
              "       [3, 5, 0]])"
            ]
          },
          "metadata": {},
          "execution_count": 34
        }
      ]
    },
    {
      "cell_type": "code",
      "metadata": {
        "colab": {
          "base_uri": "https://localhost:8080/",
          "height": 266
        },
        "id": "O_ksU71_pG3P",
        "outputId": "3d163693-134f-4ada-dc05-97933a8710d4"
      },
      "source": [
        "np.random.seed(2)\n",
        "df=pd.DataFrame(np.random.randint(20,size=(7,5)))\n",
        "df"
      ],
      "execution_count": 35,
      "outputs": [
        {
          "output_type": "execute_result",
          "data": {
            "text/html": [
              "<div>\n",
              "<style scoped>\n",
              "    .dataframe tbody tr th:only-of-type {\n",
              "        vertical-align: middle;\n",
              "    }\n",
              "\n",
              "    .dataframe tbody tr th {\n",
              "        vertical-align: top;\n",
              "    }\n",
              "\n",
              "    .dataframe thead th {\n",
              "        text-align: right;\n",
              "    }\n",
              "</style>\n",
              "<table border=\"1\" class=\"dataframe\">\n",
              "  <thead>\n",
              "    <tr style=\"text-align: right;\">\n",
              "      <th></th>\n",
              "      <th>0</th>\n",
              "      <th>1</th>\n",
              "      <th>2</th>\n",
              "      <th>3</th>\n",
              "      <th>4</th>\n",
              "    </tr>\n",
              "  </thead>\n",
              "  <tbody>\n",
              "    <tr>\n",
              "      <th>0</th>\n",
              "      <td>8</td>\n",
              "      <td>15</td>\n",
              "      <td>13</td>\n",
              "      <td>8</td>\n",
              "      <td>11</td>\n",
              "    </tr>\n",
              "    <tr>\n",
              "      <th>1</th>\n",
              "      <td>18</td>\n",
              "      <td>11</td>\n",
              "      <td>8</td>\n",
              "      <td>7</td>\n",
              "      <td>2</td>\n",
              "    </tr>\n",
              "    <tr>\n",
              "      <th>2</th>\n",
              "      <td>17</td>\n",
              "      <td>11</td>\n",
              "      <td>15</td>\n",
              "      <td>5</td>\n",
              "      <td>7</td>\n",
              "    </tr>\n",
              "    <tr>\n",
              "      <th>3</th>\n",
              "      <td>3</td>\n",
              "      <td>6</td>\n",
              "      <td>4</td>\n",
              "      <td>10</td>\n",
              "      <td>11</td>\n",
              "    </tr>\n",
              "    <tr>\n",
              "      <th>4</th>\n",
              "      <td>19</td>\n",
              "      <td>7</td>\n",
              "      <td>6</td>\n",
              "      <td>10</td>\n",
              "      <td>1</td>\n",
              "    </tr>\n",
              "    <tr>\n",
              "      <th>5</th>\n",
              "      <td>3</td>\n",
              "      <td>5</td>\n",
              "      <td>4</td>\n",
              "      <td>14</td>\n",
              "      <td>6</td>\n",
              "    </tr>\n",
              "    <tr>\n",
              "      <th>6</th>\n",
              "      <td>19</td>\n",
              "      <td>2</td>\n",
              "      <td>16</td>\n",
              "      <td>14</td>\n",
              "      <td>12</td>\n",
              "    </tr>\n",
              "  </tbody>\n",
              "</table>\n",
              "</div>"
            ],
            "text/plain": [
              "    0   1   2   3   4\n",
              "0   8  15  13   8  11\n",
              "1  18  11   8   7   2\n",
              "2  17  11  15   5   7\n",
              "3   3   6   4  10  11\n",
              "4  19   7   6  10   1\n",
              "5   3   5   4  14   6\n",
              "6  19   2  16  14  12"
            ]
          },
          "metadata": {},
          "execution_count": 35
        }
      ]
    },
    {
      "cell_type": "code",
      "metadata": {
        "colab": {
          "base_uri": "https://localhost:8080/"
        },
        "id": "_eY2MQwKqD83",
        "outputId": "816beaec-aa0c-450f-8413-d23c621359a6"
      },
      "source": [
        "#Viewing arrays and matrices \n",
        "a1"
      ],
      "execution_count": 36,
      "outputs": [
        {
          "output_type": "execute_result",
          "data": {
            "text/plain": [
              "array([1, 2, 3])"
            ]
          },
          "metadata": {},
          "execution_count": 36
        }
      ]
    },
    {
      "cell_type": "code",
      "metadata": {
        "colab": {
          "base_uri": "https://localhost:8080/"
        },
        "id": "uMz7rOr0qPbE",
        "outputId": "f58d8b6c-57d4-47f7-f040-780a840c487a"
      },
      "source": [
        "a2"
      ],
      "execution_count": 37,
      "outputs": [
        {
          "output_type": "execute_result",
          "data": {
            "text/plain": [
              "array([[ 1. ,  2. ,  3.3],\n",
              "       [ 5. ,  3.4, 33. ]])"
            ]
          },
          "metadata": {},
          "execution_count": 37
        }
      ]
    },
    {
      "cell_type": "code",
      "metadata": {
        "colab": {
          "base_uri": "https://localhost:8080/"
        },
        "id": "Hg4m9gjyqRZm",
        "outputId": "8a9aefc4-c41f-47a2-d2f2-47782f0da571"
      },
      "source": [
        "a3"
      ],
      "execution_count": 38,
      "outputs": [
        {
          "output_type": "execute_result",
          "data": {
            "text/plain": [
              "array([[[ 1,  2,  3],\n",
              "        [ 4,  5,  6],\n",
              "        [ 7,  8,  9]],\n",
              "\n",
              "       [[10, 11, 12],\n",
              "        [13, 14, 15],\n",
              "        [16, 17, 18]]])"
            ]
          },
          "metadata": {},
          "execution_count": 38
        }
      ]
    },
    {
      "cell_type": "code",
      "metadata": {
        "colab": {
          "base_uri": "https://localhost:8080/"
        },
        "id": "mzHgNHFuqTLt",
        "outputId": "678c01a2-4e66-4b89-b437-8998552b6563"
      },
      "source": [
        "a1[2] #Index number calling"
      ],
      "execution_count": 39,
      "outputs": [
        {
          "output_type": "execute_result",
          "data": {
            "text/plain": [
              "3"
            ]
          },
          "metadata": {},
          "execution_count": 39
        }
      ]
    },
    {
      "cell_type": "code",
      "metadata": {
        "colab": {
          "base_uri": "https://localhost:8080/"
        },
        "id": "BkPeRhbEqZPr",
        "outputId": "18475d79-e9ec-4b9c-ef99-1dea39a5dd0c"
      },
      "source": [
        "a2[1] #will get entire row"
      ],
      "execution_count": 40,
      "outputs": [
        {
          "output_type": "execute_result",
          "data": {
            "text/plain": [
              "array([ 5. ,  3.4, 33. ])"
            ]
          },
          "metadata": {},
          "execution_count": 40
        }
      ]
    },
    {
      "cell_type": "code",
      "metadata": {
        "colab": {
          "base_uri": "https://localhost:8080/"
        },
        "id": "kid7epqUqeRv",
        "outputId": "7948a882-5102-4a4a-91eb-d997d14dbc2d"
      },
      "source": [
        "a3[1] # will get the table in index number"
      ],
      "execution_count": 41,
      "outputs": [
        {
          "output_type": "execute_result",
          "data": {
            "text/plain": [
              "array([[10, 11, 12],\n",
              "       [13, 14, 15],\n",
              "       [16, 17, 18]])"
            ]
          },
          "metadata": {},
          "execution_count": 41
        }
      ]
    },
    {
      "cell_type": "code",
      "metadata": {
        "colab": {
          "base_uri": "https://localhost:8080/"
        },
        "id": "XeBwX_l1qr10",
        "outputId": "23bcd61b-54bd-4098-fd04-04528ef30e0f"
      },
      "source": [
        "a4=np.random.randint(10,size=(2,3,4,5)) #(Number of 3 dimensional tables(2),Number of tables in the 3d tables (3),rows(4),columns(5))\n",
        "a4"
      ],
      "execution_count": 42,
      "outputs": [
        {
          "output_type": "execute_result",
          "data": {
            "text/plain": [
              "array([[[[2, 4, 1, 7, 8],\n",
              "         [2, 9, 8, 7, 1],\n",
              "         [6, 8, 5, 9, 9],\n",
              "         [9, 3, 0, 0, 2]],\n",
              "\n",
              "        [[8, 8, 2, 9, 6],\n",
              "         [5, 6, 6, 6, 3],\n",
              "         [8, 2, 1, 4, 8],\n",
              "         [1, 6, 9, 5, 1]],\n",
              "\n",
              "        [[2, 4, 7, 6, 4],\n",
              "         [5, 8, 3, 0, 0],\n",
              "         [5, 7, 5, 0, 8],\n",
              "         [6, 5, 1, 7, 4]]],\n",
              "\n",
              "\n",
              "       [[[3, 6, 1, 4, 0],\n",
              "         [8, 5, 4, 2, 9],\n",
              "         [7, 1, 9, 2, 1],\n",
              "         [0, 7, 1, 8, 9]],\n",
              "\n",
              "        [[0, 7, 0, 5, 2],\n",
              "         [5, 1, 3, 3, 1],\n",
              "         [8, 6, 8, 1, 5],\n",
              "         [7, 0, 9, 1, 5]],\n",
              "\n",
              "        [[9, 2, 0, 0, 4],\n",
              "         [6, 3, 1, 8, 5],\n",
              "         [9, 5, 4, 2, 7],\n",
              "         [8, 7, 3, 4, 8]]]])"
            ]
          },
          "metadata": {},
          "execution_count": 42
        }
      ]
    },
    {
      "cell_type": "markdown",
      "metadata": {
        "id": "mv83-lNQsjEp"
      },
      "source": [
        "## **Manipulating Arrays**\n"
      ]
    },
    {
      "cell_type": "code",
      "metadata": {
        "id": "7T15FnyFssya"
      },
      "source": [
        "# Arithmetic\n",
        "# +,-,*,/,//\n",
        "# np.exp()\n",
        "# np.log()\n",
        "# np.dot()\n",
        "# Broadcasting"
      ],
      "execution_count": 43,
      "outputs": []
    },
    {
      "cell_type": "code",
      "metadata": {
        "colab": {
          "base_uri": "https://localhost:8080/"
        },
        "id": "DZ-wOZVUtBC2",
        "outputId": "e3f9342a-d65a-40d7-f542-703cfb2fd6ee"
      },
      "source": [
        "a1"
      ],
      "execution_count": 44,
      "outputs": [
        {
          "output_type": "execute_result",
          "data": {
            "text/plain": [
              "array([1, 2, 3])"
            ]
          },
          "metadata": {},
          "execution_count": 44
        }
      ]
    },
    {
      "cell_type": "code",
      "metadata": {
        "colab": {
          "base_uri": "https://localhost:8080/"
        },
        "id": "b79Qz_vbtEDD",
        "outputId": "0a933db1-7b52-4fa4-fa89-c9e8faf3458e"
      },
      "source": [
        "ones"
      ],
      "execution_count": 45,
      "outputs": [
        {
          "output_type": "execute_result",
          "data": {
            "text/plain": [
              "array([[1., 1.],\n",
              "       [1., 1.],\n",
              "       [1., 1.],\n",
              "       [1., 1.],\n",
              "       [1., 1.],\n",
              "       [1., 1.],\n",
              "       [1., 1.],\n",
              "       [1., 1.],\n",
              "       [1., 1.],\n",
              "       [1., 1.]])"
            ]
          },
          "metadata": {},
          "execution_count": 45
        }
      ]
    },
    {
      "cell_type": "code",
      "metadata": {
        "colab": {
          "base_uri": "https://localhost:8080/"
        },
        "id": "T9g12gtBtF8J",
        "outputId": "679fa5f1-726c-4fa5-a34d-d2e350a77189"
      },
      "source": [
        "ones=np.ones(3)\n",
        "ones"
      ],
      "execution_count": 46,
      "outputs": [
        {
          "output_type": "execute_result",
          "data": {
            "text/plain": [
              "array([1., 1., 1.])"
            ]
          },
          "metadata": {},
          "execution_count": 46
        }
      ]
    },
    {
      "cell_type": "code",
      "metadata": {
        "colab": {
          "base_uri": "https://localhost:8080/"
        },
        "id": "4h9rmIwUtRcO",
        "outputId": "1880d06b-810a-4cf2-da11-386b334435e7"
      },
      "source": [
        "a1+ones"
      ],
      "execution_count": 47,
      "outputs": [
        {
          "output_type": "execute_result",
          "data": {
            "text/plain": [
              "array([2., 3., 4.])"
            ]
          },
          "metadata": {},
          "execution_count": 47
        }
      ]
    },
    {
      "cell_type": "code",
      "metadata": {
        "colab": {
          "base_uri": "https://localhost:8080/"
        },
        "id": "vgeVJid2wZ7o",
        "outputId": "a741bdd7-31aa-4d57-d779-6d2654f62086"
      },
      "source": [
        "a1*ones"
      ],
      "execution_count": 48,
      "outputs": [
        {
          "output_type": "execute_result",
          "data": {
            "text/plain": [
              "array([1., 2., 3.])"
            ]
          },
          "metadata": {},
          "execution_count": 48
        }
      ]
    },
    {
      "cell_type": "code",
      "metadata": {
        "colab": {
          "base_uri": "https://localhost:8080/"
        },
        "id": "-soRjXRxwpjn",
        "outputId": "1b71fc47-7f01-4437-9a7b-cc91a7511a0a"
      },
      "source": [
        "ones/a1\n"
      ],
      "execution_count": 49,
      "outputs": [
        {
          "output_type": "execute_result",
          "data": {
            "text/plain": [
              "array([1.        , 0.5       , 0.33333333])"
            ]
          },
          "metadata": {},
          "execution_count": 49
        }
      ]
    },
    {
      "cell_type": "code",
      "metadata": {
        "colab": {
          "base_uri": "https://localhost:8080/"
        },
        "id": "_llnFrNxwxYk",
        "outputId": "ce33a9a4-03cd-4700-a74c-9f6078b88c28"
      },
      "source": [
        "a1**2 #Square of array"
      ],
      "execution_count": 50,
      "outputs": [
        {
          "output_type": "execute_result",
          "data": {
            "text/plain": [
              "array([1, 4, 9])"
            ]
          },
          "metadata": {},
          "execution_count": 50
        }
      ]
    },
    {
      "cell_type": "code",
      "metadata": {
        "colab": {
          "base_uri": "https://localhost:8080/"
        },
        "id": "yFZRU5bEw2hh",
        "outputId": "d81671db-4b47-4322-c1b3-644b10afeaa1"
      },
      "source": [
        "np.exp(a1)"
      ],
      "execution_count": 51,
      "outputs": [
        {
          "output_type": "execute_result",
          "data": {
            "text/plain": [
              "array([ 2.71828183,  7.3890561 , 20.08553692])"
            ]
          },
          "metadata": {},
          "execution_count": 51
        }
      ]
    },
    {
      "cell_type": "code",
      "metadata": {
        "colab": {
          "base_uri": "https://localhost:8080/"
        },
        "id": "MtrU6uJzxI2T",
        "outputId": "633b1615-4919-4c9d-97e2-e431535b258c"
      },
      "source": [
        "#Aggregation\n",
        "sum(a1)"
      ],
      "execution_count": 52,
      "outputs": [
        {
          "output_type": "execute_result",
          "data": {
            "text/plain": [
              "6"
            ]
          },
          "metadata": {},
          "execution_count": 52
        }
      ]
    },
    {
      "cell_type": "code",
      "metadata": {
        "colab": {
          "base_uri": "https://localhost:8080/"
        },
        "id": "tqVkSGtqxZSK",
        "outputId": "cdc0cc09-e4bd-44c0-f8a8-c5d17f13857b"
      },
      "source": [
        "np.sum(a1)"
      ],
      "execution_count": 53,
      "outputs": [
        {
          "output_type": "execute_result",
          "data": {
            "text/plain": [
              "6"
            ]
          },
          "metadata": {},
          "execution_count": 53
        }
      ]
    },
    {
      "cell_type": "code",
      "metadata": {
        "colab": {
          "base_uri": "https://localhost:8080/"
        },
        "id": "wmufJQl5yyCK",
        "outputId": "48d54831-fc39-46bb-e20f-f22593b19588"
      },
      "source": [
        "massive_array=np.random.random(100000)\n",
        "massive_array"
      ],
      "execution_count": 54,
      "outputs": [
        {
          "output_type": "execute_result",
          "data": {
            "text/plain": [
              "array([1.23587469e-04, 9.28962625e-02, 1.75116384e-01, ...,\n",
              "       8.10541903e-01, 7.28417699e-02, 7.65661598e-01])"
            ]
          },
          "metadata": {},
          "execution_count": 54
        }
      ]
    },
    {
      "cell_type": "code",
      "metadata": {
        "colab": {
          "base_uri": "https://localhost:8080/"
        },
        "id": "Dp8d0kQkzGzy",
        "outputId": "fb5b5a5a-3c57-4ccc-dd37-d0888253fc5b"
      },
      "source": [
        "%time sum(massive_array)\n",
        "%time np.sum(massive_array)"
      ],
      "execution_count": 55,
      "outputs": [
        {
          "output_type": "stream",
          "text": [
            "CPU times: user 32.4 ms, sys: 0 ns, total: 32.4 ms\n",
            "Wall time: 44.5 ms\n",
            "CPU times: user 820 µs, sys: 0 ns, total: 820 µs\n",
            "Wall time: 647 µs\n"
          ],
          "name": "stdout"
        },
        {
          "output_type": "execute_result",
          "data": {
            "text/plain": [
              "49976.13460293812"
            ]
          },
          "metadata": {},
          "execution_count": 55
        }
      ]
    },
    {
      "cell_type": "code",
      "metadata": {
        "id": "SwUqoEFp9_DG"
      },
      "source": [
        "#Find the mean "
      ],
      "execution_count": null,
      "outputs": []
    },
    {
      "cell_type": "code",
      "metadata": {
        "colab": {
          "base_uri": "https://localhost:8080/"
        },
        "id": "x2WUAbYu-EGt",
        "outputId": "b172a606-9762-4c7d-f40b-a5b7fc88fe13"
      },
      "source": [
        "a2\n"
      ],
      "execution_count": 56,
      "outputs": [
        {
          "output_type": "execute_result",
          "data": {
            "text/plain": [
              "array([[ 1. ,  2. ,  3.3],\n",
              "       [ 5. ,  3.4, 33. ]])"
            ]
          },
          "metadata": {},
          "execution_count": 56
        }
      ]
    },
    {
      "cell_type": "code",
      "metadata": {
        "colab": {
          "base_uri": "https://localhost:8080/"
        },
        "id": "LouzYgF5-GbH",
        "outputId": "98815cac-8ac0-4551-d83e-6c7713a08273"
      },
      "source": [
        "np.mean(a2)"
      ],
      "execution_count": 57,
      "outputs": [
        {
          "output_type": "execute_result",
          "data": {
            "text/plain": [
              "7.95"
            ]
          },
          "metadata": {},
          "execution_count": 57
        }
      ]
    },
    {
      "cell_type": "code",
      "metadata": {
        "colab": {
          "base_uri": "https://localhost:8080/"
        },
        "id": "mHEFej7x-i53",
        "outputId": "704097a1-5d81-41fe-b283-b3fb36b9e200"
      },
      "source": [
        "np.max(a2)  #Find the Max"
      ],
      "execution_count": 58,
      "outputs": [
        {
          "output_type": "execute_result",
          "data": {
            "text/plain": [
              "33.0"
            ]
          },
          "metadata": {},
          "execution_count": 58
        }
      ]
    },
    {
      "cell_type": "code",
      "metadata": {
        "colab": {
          "base_uri": "https://localhost:8080/"
        },
        "id": "EDU-Galg-pe7",
        "outputId": "6b13d075-45a5-4063-fd1f-e8101c69df45"
      },
      "source": [
        "np.std(a2) #Standard Deviation\n"
      ],
      "execution_count": 59,
      "outputs": [
        {
          "output_type": "execute_result",
          "data": {
            "text/plain": [
              "11.271165275456957"
            ]
          },
          "metadata": {},
          "execution_count": 59
        }
      ]
    },
    {
      "cell_type": "code",
      "metadata": {
        "colab": {
          "base_uri": "https://localhost:8080/"
        },
        "id": "6fRLrzJk-x-g",
        "outputId": "3ad2af22-4b31-4fc5-f84c-e6de321ed009"
      },
      "source": [
        "# Find the variance\n",
        "np.var(a2)"
      ],
      "execution_count": 60,
      "outputs": [
        {
          "output_type": "execute_result",
          "data": {
            "text/plain": [
              "127.03916666666669"
            ]
          },
          "metadata": {},
          "execution_count": 60
        }
      ]
    },
    {
      "cell_type": "code",
      "metadata": {
        "colab": {
          "base_uri": "https://localhost:8080/"
        },
        "id": "mM4oN18k_BHt",
        "outputId": "48deeabf-3672-44b9-c182-b3e5817163f2"
      },
      "source": [
        "np.sqrt(np.var(a2))"
      ],
      "execution_count": 61,
      "outputs": [
        {
          "output_type": "execute_result",
          "data": {
            "text/plain": [
              "11.271165275456957"
            ]
          },
          "metadata": {},
          "execution_count": 61
        }
      ]
    },
    {
      "cell_type": "code",
      "metadata": {
        "id": "dgOYRXZi_Pyu"
      },
      "source": [
        "import matplotlib.pyplot as plt"
      ],
      "execution_count": 63,
      "outputs": []
    },
    {
      "cell_type": "code",
      "metadata": {
        "colab": {
          "base_uri": "https://localhost:8080/",
          "height": 265
        },
        "id": "FCcVuCWa-mOS",
        "outputId": "3adf685e-f735-420e-b933-67f68d676957"
      },
      "source": [
        "plt.hist(a2) # Histogram\n",
        "plt.show()"
      ],
      "execution_count": 65,
      "outputs": [
        {
          "output_type": "display_data",
          "data": {
            "image/png": "[encoded data removed]",
            "text/plain": [
              "<Figure size 432x288 with 1 Axes>"
            ]
          },
          "metadata": {
            "needs_background": "light"
          }
        }
      ]
    },
    {
      "cell_type": "code",
      "metadata": {
        "colab": {
          "base_uri": "https://localhost:8080/"
        },
        "id": "R6f_4UYy_3_h",
        "outputId": "1b1fb54c-4bff-4c29-dcfd-078735c93e8e"
      },
      "source": [
        "#Reshapping \n",
        "a2"
      ],
      "execution_count": 66,
      "outputs": [
        {
          "output_type": "execute_result",
          "data": {
            "text/plain": [
              "array([[ 1. ,  2. ,  3.3],\n",
              "       [ 5. ,  3.4, 33. ]])"
            ]
          },
          "metadata": {},
          "execution_count": 66
        }
      ]
    },
    {
      "cell_type": "code",
      "metadata": {
        "colab": {
          "base_uri": "https://localhost:8080/"
        },
        "id": "5Ncd1SC_AF3N",
        "outputId": "bb2f8051-8ff6-4e75-d1ff-571e85843c08"
      },
      "source": [
        "a2.shape #The Shape"
      ],
      "execution_count": 67,
      "outputs": [
        {
          "output_type": "execute_result",
          "data": {
            "text/plain": [
              "(2, 3)"
            ]
          },
          "metadata": {},
          "execution_count": 67
        }
      ]
    },
    {
      "cell_type": "code",
      "metadata": {
        "id": "g9rjbKZvAKQa"
      },
      "source": [
        "# to add a2 and a3, need to convert 2 dimensional into 3 dimension"
      ],
      "execution_count": null,
      "outputs": []
    },
    {
      "cell_type": "code",
      "metadata": {
        "colab": {
          "base_uri": "https://localhost:8080/"
        },
        "id": "CAHt7rxSAbBw",
        "outputId": "04a7bceb-c808-4184-9540-ba6a5acd7ddb"
      },
      "source": [
        "a2.reshape(2,3,1)"
      ],
      "execution_count": 68,
      "outputs": [
        {
          "output_type": "execute_result",
          "data": {
            "text/plain": [
              "array([[[ 1. ],\n",
              "        [ 2. ],\n",
              "        [ 3.3]],\n",
              "\n",
              "       [[ 5. ],\n",
              "        [ 3.4],\n",
              "        [33. ]]])"
            ]
          },
          "metadata": {},
          "execution_count": 68
        }
      ]
    },
    {
      "cell_type": "code",
      "metadata": {
        "colab": {
          "base_uri": "https://localhost:8080/"
        },
        "id": "2EyXk2zLAfVn",
        "outputId": "1e77efab-c334-41d6-8b87-eeff7e0fdcf5"
      },
      "source": [
        "a2.reshape(2,3,1)+a3"
      ],
      "execution_count": 70,
      "outputs": [
        {
          "output_type": "execute_result",
          "data": {
            "text/plain": [
              "array([[[ 2. ,  3. ,  4. ],\n",
              "        [ 6. ,  7. ,  8. ],\n",
              "        [10.3, 11.3, 12.3]],\n",
              "\n",
              "       [[15. , 16. , 17. ],\n",
              "        [16.4, 17.4, 18.4],\n",
              "        [49. , 50. , 51. ]]])"
            ]
          },
          "metadata": {},
          "execution_count": 70
        }
      ]
    },
    {
      "cell_type": "code",
      "metadata": {
        "colab": {
          "base_uri": "https://localhost:8080/"
        },
        "id": "tFPYk6eUAsau",
        "outputId": "1b4563f3-041d-4915-dac9-c065d8cfaf98"
      },
      "source": [
        "#Transpose - if you want to convert your rows into columns\n",
        "a2.shape"
      ],
      "execution_count": 71,
      "outputs": [
        {
          "output_type": "execute_result",
          "data": {
            "text/plain": [
              "(2, 3)"
            ]
          },
          "metadata": {},
          "execution_count": 71
        }
      ]
    },
    {
      "cell_type": "code",
      "metadata": {
        "colab": {
          "base_uri": "https://localhost:8080/"
        },
        "id": "f43kfKnzA9ti",
        "outputId": "dbeb1a89-0b4f-412b-a5f8-43bb55645347"
      },
      "source": [
        "a2.T"
      ],
      "execution_count": 74,
      "outputs": [
        {
          "output_type": "execute_result",
          "data": {
            "text/plain": [
              "array([[ 1. ,  5. ],\n",
              "       [ 2. ,  3.4],\n",
              "       [ 3.3, 33. ]])"
            ]
          },
          "metadata": {},
          "execution_count": 74
        }
      ]
    },
    {
      "cell_type": "code",
      "metadata": {
        "colab": {
          "base_uri": "https://localhost:8080/"
        },
        "id": "7UTnxibrBJwq",
        "outputId": "37723bbb-6f65-4d69-aa91-1a2db3a52aa1"
      },
      "source": [
        "a2.T.shape"
      ],
      "execution_count": 75,
      "outputs": [
        {
          "output_type": "execute_result",
          "data": {
            "text/plain": [
              "(3, 2)"
            ]
          },
          "metadata": {},
          "execution_count": 75
        }
      ]
    },
    {
      "cell_type": "code",
      "metadata": {
        "colab": {
          "base_uri": "https://localhost:8080/"
        },
        "id": "7rvffIVIBPDZ",
        "outputId": "a8f348f2-cf7b-40e4-a411-e7c3e294e3d2"
      },
      "source": [
        "matrix=np.random.random(size=(5,3,3))\n",
        "matrix"
      ],
      "execution_count": 76,
      "outputs": [
        {
          "output_type": "execute_result",
          "data": {
            "text/plain": [
              "array([[[0.2281241 , 0.91564599, 0.72326712],\n",
              "        [0.24054527, 0.67033653, 0.9223501 ],\n",
              "        [0.1077218 , 0.14944732, 0.7956011 ]],\n",
              "\n",
              "       [[0.90441016, 0.6255032 , 0.04734019],\n",
              "        [0.44469655, 0.04384215, 0.27431575],\n",
              "        [0.0873402 , 0.5927684 , 0.12349547]],\n",
              "\n",
              "       [[0.15137087, 0.35261971, 0.40132123],\n",
              "        [0.95507437, 0.37509241, 0.34660269],\n",
              "        [0.16705709, 0.93605651, 0.63415137]],\n",
              "\n",
              "       [[0.23939251, 0.23723815, 0.8473708 ],\n",
              "        [0.92447024, 0.23824236, 0.4098903 ],\n",
              "        [0.29523494, 0.33380408, 0.1104866 ]],\n",
              "\n",
              "       [[0.89518547, 0.27436129, 0.71643556],\n",
              "        [0.49061636, 0.31267459, 0.90794798],\n",
              "        [0.45648822, 0.83348335, 0.48897938]]])"
            ]
          },
          "metadata": {},
          "execution_count": 76
        }
      ]
    },
    {
      "cell_type": "code",
      "metadata": {
        "colab": {
          "base_uri": "https://localhost:8080/"
        },
        "id": "IyvvkUwJBbO2",
        "outputId": "35f01242-68a6-4ca0-a864-432e3cc99d20"
      },
      "source": [
        "matrix.shape"
      ],
      "execution_count": 77,
      "outputs": [
        {
          "output_type": "execute_result",
          "data": {
            "text/plain": [
              "(5, 3, 3)"
            ]
          },
          "metadata": {},
          "execution_count": 77
        }
      ]
    },
    {
      "cell_type": "code",
      "metadata": {
        "colab": {
          "base_uri": "https://localhost:8080/"
        },
        "id": "Bo1pxLBEBdH_",
        "outputId": "046e8093-3bd9-43bf-a357-d602928b1de2"
      },
      "source": [
        "matrix.T"
      ],
      "execution_count": 78,
      "outputs": [
        {
          "output_type": "execute_result",
          "data": {
            "text/plain": [
              "array([[[0.2281241 , 0.90441016, 0.15137087, 0.23939251, 0.89518547],\n",
              "        [0.24054527, 0.44469655, 0.95507437, 0.92447024, 0.49061636],\n",
              "        [0.1077218 , 0.0873402 , 0.16705709, 0.29523494, 0.45648822]],\n",
              "\n",
              "       [[0.91564599, 0.6255032 , 0.35261971, 0.23723815, 0.27436129],\n",
              "        [0.67033653, 0.04384215, 0.37509241, 0.23824236, 0.31267459],\n",
              "        [0.14944732, 0.5927684 , 0.93605651, 0.33380408, 0.83348335]],\n",
              "\n",
              "       [[0.72326712, 0.04734019, 0.40132123, 0.8473708 , 0.71643556],\n",
              "        [0.9223501 , 0.27431575, 0.34660269, 0.4098903 , 0.90794798],\n",
              "        [0.7956011 , 0.12349547, 0.63415137, 0.1104866 , 0.48897938]]])"
            ]
          },
          "metadata": {},
          "execution_count": 78
        }
      ]
    },
    {
      "cell_type": "code",
      "metadata": {
        "colab": {
          "base_uri": "https://localhost:8080/"
        },
        "id": "ACl0Au9ABiw-",
        "outputId": "223e65e7-a2de-4f4a-d699-956fd3c89dc8"
      },
      "source": [
        "matrix.T.shape"
      ],
      "execution_count": 80,
      "outputs": [
        {
          "output_type": "execute_result",
          "data": {
            "text/plain": [
              "(3, 3, 5)"
            ]
          },
          "metadata": {},
          "execution_count": 80
        }
      ]
    },
    {
      "cell_type": "code",
      "metadata": {
        "colab": {
          "base_uri": "https://localhost:8080/"
        },
        "id": "w24vsY6wBvkG",
        "outputId": "4859206c-bf9e-45b7-f2b3-b7cf8101af01"
      },
      "source": [
        "#DOT \n",
        "np.random.seed(0)\n",
        "mat1=np.random.randint(10,size=(3,3))\n",
        "mat2=np.random.randint(10,size=(3,2))\n",
        "mat1\n",
        "mat2"
      ],
      "execution_count": 84,
      "outputs": [
        {
          "output_type": "execute_result",
          "data": {
            "text/plain": [
              "array([[4, 7],\n",
              "       [6, 8],\n",
              "       [8, 1]])"
            ]
          },
          "metadata": {},
          "execution_count": 84
        }
      ]
    },
    {
      "cell_type": "code",
      "metadata": {
        "colab": {
          "base_uri": "https://localhost:8080/"
        },
        "id": "fOE8XNkwCptd",
        "outputId": "2b347a70-34eb-4ed4-dc54-92f0eac427a2"
      },
      "source": [
        "mat1"
      ],
      "execution_count": 85,
      "outputs": [
        {
          "output_type": "execute_result",
          "data": {
            "text/plain": [
              "array([[5, 0, 3],\n",
              "       [3, 7, 9],\n",
              "       [3, 5, 2]])"
            ]
          },
          "metadata": {},
          "execution_count": 85
        }
      ]
    },
    {
      "cell_type": "code",
      "metadata": {
        "colab": {
          "base_uri": "https://localhost:8080/"
        },
        "id": "RKMtgPSGCrk0",
        "outputId": "ff8353ec-3bb7-4c05-ddfc-5f2daeba3770"
      },
      "source": [
        "mat2"
      ],
      "execution_count": 86,
      "outputs": [
        {
          "output_type": "execute_result",
          "data": {
            "text/plain": [
              "array([[4, 7],\n",
              "       [6, 8],\n",
              "       [8, 1]])"
            ]
          },
          "metadata": {},
          "execution_count": 86
        }
      ]
    },
    {
      "cell_type": "code",
      "metadata": {
        "colab": {
          "base_uri": "https://localhost:8080/"
        },
        "id": "CQEvvbUQCtHj",
        "outputId": "9b260ceb-590f-44c1-ff09-95d7736d87d0"
      },
      "source": [
        "np.dot(mat1,mat2) #multiplication of the 2 arrays"
      ],
      "execution_count": 87,
      "outputs": [
        {
          "output_type": "execute_result",
          "data": {
            "text/plain": [
              "array([[ 44,  38],\n",
              "       [126,  86],\n",
              "       [ 58,  63]])"
            ]
          },
          "metadata": {},
          "execution_count": 87
        }
      ]
    },
    {
      "cell_type": "code",
      "metadata": {
        "id": "9_hnK8qyDBeY"
      },
      "source": [
        "#mat1*mat2 element wise multiplication, have to have same dimensions\n"
      ],
      "execution_count": null,
      "outputs": []
    },
    {
      "cell_type": "code",
      "metadata": {
        "colab": {
          "base_uri": "https://localhost:8080/"
        },
        "id": "3Jnuko0SDJ7Z",
        "outputId": "9a2008f9-b857-44f5-98ad-832e993eae84"
      },
      "source": [
        "#DOT Product Practical Example\n",
        "np.random.seed(0)\n",
        "sales=np.random.randint(20,size=(5,3))\n",
        "sales"
      ],
      "execution_count": 89,
      "outputs": [
        {
          "output_type": "execute_result",
          "data": {
            "text/plain": [
              "array([[12, 15,  0],\n",
              "       [ 3,  3,  7],\n",
              "       [ 9, 19, 18],\n",
              "       [ 4,  6, 12],\n",
              "       [ 1,  6,  7]])"
            ]
          },
          "metadata": {},
          "execution_count": 89
        }
      ]
    },
    {
      "cell_type": "code",
      "metadata": {
        "colab": {
          "base_uri": "https://localhost:8080/",
          "height": 204
        },
        "id": "yg55bAl2DZDd",
        "outputId": "22ff529f-3c08-4fc5-85f1-b69fb5826d3d"
      },
      "source": [
        "week_sales=pd.DataFrame(sales, \n",
        "                        index=[\"a\",\"b\",\"c\",\"d\",\"f\"],\n",
        "                        columns=[\"Domestic\",\"International\",\"B2B\"])\n",
        "week_sales"
      ],
      "execution_count": 91,
      "outputs": [
        {
          "output_type": "execute_result",
          "data": {
            "text/html": [
              "<div>\n",
              "<style scoped>\n",
              "    .dataframe tbody tr th:only-of-type {\n",
              "        vertical-align: middle;\n",
              "    }\n",
              "\n",
              "    .dataframe tbody tr th {\n",
              "        vertical-align: top;\n",
              "    }\n",
              "\n",
              "    .dataframe thead th {\n",
              "        text-align: right;\n",
              "    }\n",
              "</style>\n",
              "<table border=\"1\" class=\"dataframe\">\n",
              "  <thead>\n",
              "    <tr style=\"text-align: right;\">\n",
              "      <th></th>\n",
              "      <th>Domestic</th>\n",
              "      <th>International</th>\n",
              "      <th>B2B</th>\n",
              "    </tr>\n",
              "  </thead>\n",
              "  <tbody>\n",
              "    <tr>\n",
              "      <th>a</th>\n",
              "      <td>12</td>\n",
              "      <td>15</td>\n",
              "      <td>0</td>\n",
              "    </tr>\n",
              "    <tr>\n",
              "      <th>b</th>\n",
              "      <td>3</td>\n",
              "      <td>3</td>\n",
              "      <td>7</td>\n",
              "    </tr>\n",
              "    <tr>\n",
              "      <th>c</th>\n",
              "      <td>9</td>\n",
              "      <td>19</td>\n",
              "      <td>18</td>\n",
              "    </tr>\n",
              "    <tr>\n",
              "      <th>d</th>\n",
              "      <td>4</td>\n",
              "      <td>6</td>\n",
              "      <td>12</td>\n",
              "    </tr>\n",
              "    <tr>\n",
              "      <th>f</th>\n",
              "      <td>1</td>\n",
              "      <td>6</td>\n",
              "      <td>7</td>\n",
              "    </tr>\n",
              "  </tbody>\n",
              "</table>\n",
              "</div>"
            ],
            "text/plain": [
              "   Domestic  International  B2B\n",
              "a        12             15    0\n",
              "b         3              3    7\n",
              "c         9             19   18\n",
              "d         4              6   12\n",
              "f         1              6    7"
            ]
          },
          "metadata": {},
          "execution_count": 91
        }
      ]
    },
    {
      "cell_type": "code",
      "metadata": {
        "colab": {
          "base_uri": "https://localhost:8080/"
        },
        "id": "4ka0ITq9ERqi",
        "outputId": "2b0abe99-4c34-4adf-af9b-698298a442d9"
      },
      "source": [
        "week_sales.shape"
      ],
      "execution_count": 92,
      "outputs": [
        {
          "output_type": "execute_result",
          "data": {
            "text/plain": [
              "(5, 3)"
            ]
          },
          "metadata": {},
          "execution_count": 92
        }
      ]
    },
    {
      "cell_type": "code",
      "metadata": {
        "colab": {
          "base_uri": "https://localhost:8080/"
        },
        "id": "L3wnp8CHEW4K",
        "outputId": "7cd24ea5-ac92-4a5e-b7a9-cdb520936f71"
      },
      "source": [
        "#Comparison Operators\n",
        "a1"
      ],
      "execution_count": 94,
      "outputs": [
        {
          "output_type": "execute_result",
          "data": {
            "text/plain": [
              "array([1, 2, 3])"
            ]
          },
          "metadata": {},
          "execution_count": 94
        }
      ]
    },
    {
      "cell_type": "code",
      "metadata": {
        "colab": {
          "base_uri": "https://localhost:8080/"
        },
        "id": "zOyaNglgEvL0",
        "outputId": "a6ca31b1-e6aa-4044-b143-465d7b82f1e1"
      },
      "source": [
        "a2"
      ],
      "execution_count": 95,
      "outputs": [
        {
          "output_type": "execute_result",
          "data": {
            "text/plain": [
              "array([[ 1. ,  2. ,  3.3],\n",
              "       [ 5. ,  3.4, 33. ]])"
            ]
          },
          "metadata": {},
          "execution_count": 95
        }
      ]
    },
    {
      "cell_type": "code",
      "metadata": {
        "colab": {
          "base_uri": "https://localhost:8080/"
        },
        "id": "ddpxnhS1Ew66",
        "outputId": "0d81bd6d-29ba-421f-c36f-3e1b9e682de0"
      },
      "source": [
        "a1>a2"
      ],
      "execution_count": 96,
      "outputs": [
        {
          "output_type": "execute_result",
          "data": {
            "text/plain": [
              "array([[False, False, False],\n",
              "       [False, False, False]])"
            ]
          },
          "metadata": {},
          "execution_count": 96
        }
      ]
    },
    {
      "cell_type": "code",
      "metadata": {
        "colab": {
          "base_uri": "https://localhost:8080/"
        },
        "id": "wll4lxoYEzpT",
        "outputId": "45d59965-e354-4261-fc6a-3394a7cd4680"
      },
      "source": [
        "a1>=a2"
      ],
      "execution_count": 97,
      "outputs": [
        {
          "output_type": "execute_result",
          "data": {
            "text/plain": [
              "array([[ True,  True, False],\n",
              "       [False, False, False]])"
            ]
          },
          "metadata": {},
          "execution_count": 97
        }
      ]
    },
    {
      "cell_type": "code",
      "metadata": {
        "colab": {
          "base_uri": "https://localhost:8080/"
        },
        "id": "a6E1MHsGE3yG",
        "outputId": "08a58c66-d2db-4d2c-fd7d-d361fbc4e543"
      },
      "source": [
        "a1>5"
      ],
      "execution_count": 98,
      "outputs": [
        {
          "output_type": "execute_result",
          "data": {
            "text/plain": [
              "array([False, False, False])"
            ]
          },
          "metadata": {},
          "execution_count": 98
        }
      ]
    },
    {
      "cell_type": "code",
      "metadata": {
        "colab": {
          "base_uri": "https://localhost:8080/"
        },
        "id": "krfMwq6sE591",
        "outputId": "a3ada15d-6806-4561-c1b3-9dd9176931b6"
      },
      "source": [
        "a1==a1"
      ],
      "execution_count": 99,
      "outputs": [
        {
          "output_type": "execute_result",
          "data": {
            "text/plain": [
              "array([ True,  True,  True])"
            ]
          },
          "metadata": {},
          "execution_count": 99
        }
      ]
    },
    {
      "cell_type": "code",
      "metadata": {
        "colab": {
          "base_uri": "https://localhost:8080/"
        },
        "id": "_n5dlIesE-Wd",
        "outputId": "7492080f-c29d-4157-c80b-c01cd3e850b2"
      },
      "source": [
        "a1==a2"
      ],
      "execution_count": 100,
      "outputs": [
        {
          "output_type": "execute_result",
          "data": {
            "text/plain": [
              "array([[ True,  True, False],\n",
              "       [False, False, False]])"
            ]
          },
          "metadata": {},
          "execution_count": 100
        }
      ]
    },
    {
      "cell_type": "code",
      "metadata": {
        "id": "QrskZq5YFBEJ"
      },
      "source": [
        "#Sorting Arrays"
      ],
      "execution_count": null,
      "outputs": []
    },
    {
      "cell_type": "markdown",
      "metadata": {
        "id": "U8xN2DKWFOVC"
      },
      "source": [
        "#Text\n",
        ".np.sort()\n",
        ".np.argsort()\n",
        ".np.argmax()\n",
        ".np.argmin()"
      ]
    },
    {
      "cell_type": "code",
      "metadata": {
        "colab": {
          "base_uri": "https://localhost:8080/"
        },
        "id": "m_grejgbFYsZ",
        "outputId": "ee0d9bad-820a-4dca-df77-86fb6b89da00"
      },
      "source": [
        "random_array"
      ],
      "execution_count": 101,
      "outputs": [
        {
          "output_type": "execute_result",
          "data": {
            "text/plain": [
              "array([[6, 9, 6, 9],\n",
              "       [1, 6, 1, 5],\n",
              "       [1, 6, 6, 0],\n",
              "       [2, 7, 2, 1],\n",
              "       [8, 8, 2, 0]])"
            ]
          },
          "metadata": {},
          "execution_count": 101
        }
      ]
    },
    {
      "cell_type": "code",
      "metadata": {
        "colab": {
          "base_uri": "https://localhost:8080/"
        },
        "id": "xQLb0txgFegC",
        "outputId": "6a3a53b2-73ae-4977-918f-1d844e5c01cb"
      },
      "source": [
        "np.sort(random_array) #Sorting based on rows"
      ],
      "execution_count": 102,
      "outputs": [
        {
          "output_type": "execute_result",
          "data": {
            "text/plain": [
              "array([[6, 6, 9, 9],\n",
              "       [1, 1, 5, 6],\n",
              "       [0, 1, 6, 6],\n",
              "       [1, 2, 2, 7],\n",
              "       [0, 2, 8, 8]])"
            ]
          },
          "metadata": {},
          "execution_count": 102
        }
      ]
    },
    {
      "cell_type": "code",
      "metadata": {
        "colab": {
          "base_uri": "https://localhost:8080/"
        },
        "id": "qqbyZlj9FokU",
        "outputId": "062553a7-6724-4e31-84c7-f906a7212298"
      },
      "source": [
        "np.argsort(random_array)"
      ],
      "execution_count": 103,
      "outputs": [
        {
          "output_type": "execute_result",
          "data": {
            "text/plain": [
              "array([[0, 2, 1, 3],\n",
              "       [0, 2, 3, 1],\n",
              "       [3, 0, 1, 2],\n",
              "       [3, 0, 2, 1],\n",
              "       [3, 2, 0, 1]])"
            ]
          },
          "metadata": {},
          "execution_count": 103
        }
      ]
    },
    {
      "cell_type": "code",
      "metadata": {
        "colab": {
          "base_uri": "https://localhost:8080/"
        },
        "id": "JOH23JcXGtTt",
        "outputId": "40e71f03-a25d-46cc-ed2a-88ad17dd34c9"
      },
      "source": [
        "np.argmax(random_array)"
      ],
      "execution_count": 106,
      "outputs": [
        {
          "output_type": "execute_result",
          "data": {
            "text/plain": [
              "1"
            ]
          },
          "metadata": {},
          "execution_count": 106
        }
      ]
    },
    {
      "cell_type": "code",
      "metadata": {
        "colab": {
          "base_uri": "https://localhost:8080/"
        },
        "id": "SD2P4ZQQG2Pi",
        "outputId": "10f40e91-f359-4f57-f59a-7e202bd9d3e9"
      },
      "source": [
        "np.argmin(random_array)"
      ],
      "execution_count": 108,
      "outputs": [
        {
          "output_type": "execute_result",
          "data": {
            "text/plain": [
              "11"
            ]
          },
          "metadata": {},
          "execution_count": 108
        }
      ]
    },
    {
      "cell_type": "code",
      "metadata": {
        "id": "NQG0Z-hzHqZl"
      },
      "source": [
        "#Turn images into NumPy Arrays"
      ],
      "execution_count": null,
      "outputs": []
    },
    {
      "cell_type": "code",
      "metadata": {
        "colab": {
          "base_uri": "https://localhost:8080/"
        },
        "id": "YiVdHo8GIbS4",
        "outputId": "1ba8f967-b704-4ac0-b75f-901bdbe634ed"
      },
      "source": [
        "from matplotlib.image import imread\n",
        "superman=imread(\"Superman.jpg\")\n",
        "superman"
      ],
      "execution_count": 110,
      "outputs": [
        {
          "output_type": "execute_result",
          "data": {
            "text/plain": [
              "array([[[198, 195, 204],\n",
              "        [206, 204, 205],\n",
              "        [195, 195, 183],\n",
              "        ...,\n",
              "        [190, 197, 179],\n",
              "        [217, 220, 209],\n",
              "        [193, 193, 193]],\n",
              "\n",
              "       [[210, 207, 214],\n",
              "        [255, 254, 255],\n",
              "        [255, 255, 248],\n",
              "        ...,\n",
              "        [241, 248, 232],\n",
              "        [248, 251, 242],\n",
              "        [207, 207, 207]],\n",
              "\n",
              "       [[190, 188, 191],\n",
              "        [255, 254, 255],\n",
              "        [255, 255, 251],\n",
              "        ...,\n",
              "        [252, 255, 246],\n",
              "        [253, 255, 249],\n",
              "        [198, 198, 198]],\n",
              "\n",
              "       ...,\n",
              "\n",
              "       [[198, 197, 195],\n",
              "        [255, 255, 253],\n",
              "        [255, 255, 253],\n",
              "        ...,\n",
              "        [255, 255, 253],\n",
              "        [255, 255, 253],\n",
              "        [198, 197, 195]],\n",
              "\n",
              "       [[214, 213, 211],\n",
              "        [255, 255, 253],\n",
              "        [255, 255, 253],\n",
              "        ...,\n",
              "        [255, 255, 253],\n",
              "        [255, 255, 253],\n",
              "        [214, 213, 211]],\n",
              "\n",
              "       [[188, 187, 185],\n",
              "        [209, 208, 206],\n",
              "        [206, 205, 203],\n",
              "        ...,\n",
              "        [209, 208, 206],\n",
              "        [210, 209, 207],\n",
              "        [187, 186, 184]]], dtype=uint8)"
            ]
          },
          "metadata": {},
          "execution_count": 110
        }
      ]
    },
    {
      "cell_type": "code",
      "metadata": {
        "colab": {
          "base_uri": "https://localhost:8080/"
        },
        "id": "Vqj8BlNaI4n0",
        "outputId": "275b4e10-ea9d-4b71-fd7a-7453d2f08d47"
      },
      "source": [
        "type(superman)"
      ],
      "execution_count": 111,
      "outputs": [
        {
          "output_type": "execute_result",
          "data": {
            "text/plain": [
              "numpy.ndarray"
            ]
          },
          "metadata": {},
          "execution_count": 111
        }
      ]
    },
    {
      "cell_type": "code",
      "metadata": {
        "colab": {
          "base_uri": "https://localhost:8080/"
        },
        "id": "PtzfYCjFJD6c",
        "outputId": "0d3418c5-5800-4b88-c698-1d3a8750620c"
      },
      "source": [
        "superman.shape"
      ],
      "execution_count": 112,
      "outputs": [
        {
          "output_type": "execute_result",
          "data": {
            "text/plain": [
              "(499, 328, 3)"
            ]
          },
          "metadata": {},
          "execution_count": 112
        }
      ]
    },
    {
      "cell_type": "code",
      "metadata": {
        "colab": {
          "base_uri": "https://localhost:8080/"
        },
        "id": "oW2yg0uMJM1G",
        "outputId": "57dbe897-7c1c-47d0-b1d7-93bdd40e775e"
      },
      "source": [
        "superman[:,:,:5]"
      ],
      "execution_count": 114,
      "outputs": [
        {
          "output_type": "execute_result",
          "data": {
            "text/plain": [
              "array([[[198, 195, 204],\n",
              "        [206, 204, 205],\n",
              "        [195, 195, 183],\n",
              "        ...,\n",
              "        [190, 197, 179],\n",
              "        [217, 220, 209],\n",
              "        [193, 193, 193]],\n",
              "\n",
              "       [[210, 207, 214],\n",
              "        [255, 254, 255],\n",
              "        [255, 255, 248],\n",
              "        ...,\n",
              "        [241, 248, 232],\n",
              "        [248, 251, 242],\n",
              "        [207, 207, 207]],\n",
              "\n",
              "       [[190, 188, 191],\n",
              "        [255, 254, 255],\n",
              "        [255, 255, 251],\n",
              "        ...,\n",
              "        [252, 255, 246],\n",
              "        [253, 255, 249],\n",
              "        [198, 198, 198]],\n",
              "\n",
              "       ...,\n",
              "\n",
              "       [[198, 197, 195],\n",
              "        [255, 255, 253],\n",
              "        [255, 255, 253],\n",
              "        ...,\n",
              "        [255, 255, 253],\n",
              "        [255, 255, 253],\n",
              "        [198, 197, 195]],\n",
              "\n",
              "       [[214, 213, 211],\n",
              "        [255, 255, 253],\n",
              "        [255, 255, 253],\n",
              "        ...,\n",
              "        [255, 255, 253],\n",
              "        [255, 255, 253],\n",
              "        [214, 213, 211]],\n",
              "\n",
              "       [[188, 187, 185],\n",
              "        [209, 208, 206],\n",
              "        [206, 205, 203],\n",
              "        ...,\n",
              "        [209, 208, 206],\n",
              "        [210, 209, 207],\n",
              "        [187, 186, 184]]], dtype=uint8)"
            ]
          },
          "metadata": {},
          "execution_count": 114
        }
      ]
    },
    {
      "cell_type": "code",
      "metadata": {
        "id": "TdjAJy4VJURV"
      },
      "source": [
        ""
      ],
      "execution_count": null,
      "outputs": []
    }
  ]
}